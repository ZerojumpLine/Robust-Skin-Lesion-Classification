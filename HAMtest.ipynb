{
 "cells": [
  {
   "cell_type": "code",
   "execution_count": 14,
   "metadata": {},
   "outputs": [],
   "source": [
    "import os\n",
    "import numpy as np\n",
    "import torch\n",
    "import torchvision.transforms as transforms\n",
    "import torchvision.datasets as datasets\n",
    "from tqdm import tqdm\n",
    "import pandas as pd\n",
    "import torch.nn.functional as F\n",
    "from PIL import Image\n",
    "import matplotlib.pyplot as plt"
   ]
  },
  {
   "cell_type": "code",
   "execution_count": 15,
   "metadata": {},
   "outputs": [],
   "source": [
    "# load the model\n",
    "from models.resnet_skin import network\n",
    "# default settings\n",
    "num_classes = 7\n",
    "model = network(name = 'resnet50', num_classes = num_classes)"
   ]
  },
  {
   "cell_type": "code",
   "execution_count": 3,
   "metadata": {},
   "outputs": [],
   "source": [
    "# load the model parameters\n",
    "model_ckpt = './checkpoints_cls/HAM_CE_None_0_cosine/ckpt.best.pth.tar'\n",
    "gpu = 0\n",
    "model = model.cuda(gpu)\n",
    "checkpoint = torch.load(model_ckpt, map_location = 'cuda:' + str(gpu))"
   ]
  },
  {
   "cell_type": "code",
   "execution_count": 4,
   "metadata": {},
   "outputs": [],
   "source": [
    "# have some naming issues\n",
    "# in checkpoint, parameters are 'module.encoder.conv1.weight'\n",
    "# in model, parameters are 'encoder.conv1.weight'"
   ]
  },
  {
   "cell_type": "code",
   "execution_count": 5,
   "metadata": {},
   "outputs": [
    {
     "data": {
      "text/plain": [
       "<All keys matched successfully>"
      ]
     },
     "execution_count": 5,
     "metadata": {},
     "output_type": "execute_result"
    }
   ],
   "source": [
    "# this is not very elegant, but should work.\n",
    "ckpt_toload = dict()\n",
    "for name in checkpoint['state_dict']:\n",
    "    name_model = name[7:]\n",
    "    ckpt_toload[name_model] = checkpoint['state_dict'][name]\n",
    "model.load_state_dict(ckpt_toload)"
   ]
  },
  {
   "cell_type": "code",
   "execution_count": 6,
   "metadata": {},
   "outputs": [],
   "source": [
    "# prepare the test data.\n",
    "normalize = transforms.Normalize(mean=[0.485, 0.456, 0.406], std=[0.229, 0.224, 0.225])\n",
    "ResizeTest = transforms.Resize(256)\n",
    "\n",
    "transform_val = transforms.Compose([\n",
    "        ResizeTest,\n",
    "        transforms.ToTensor(),\n",
    "        normalize,\n",
    "    ])\n",
    "\n",
    "data_folder = './skinlesiondatasets/SkinLesionDatasets/'\n",
    "train_dataset = datasets.ImageFolder(root=os.path.join(data_folder, 'HAMtrain'), transform=transform_val)\n",
    "#\n",
    "val_dataset = datasets.ImageFolder(root=os.path.join(data_folder, 'HAMval'), transform=transform_val)\n",
    "val_loader = torch.utils.data.DataLoader(\n",
    "        val_dataset, batch_size=1, shuffle=False,\n",
    "        num_workers=0, pin_memory=True)\n",
    "#\n",
    "test_dataset = datasets.ImageFolder(root=os.path.join(data_folder, 'HAMtest'), transform=transform_val)\n",
    "test_loader = torch.utils.data.DataLoader(\n",
    "        test_dataset, batch_size=1, shuffle=False,\n",
    "        num_workers=0, pin_memory=True)"
   ]
  },
  {
   "cell_type": "code",
   "execution_count": 7,
   "metadata": {},
   "outputs": [],
   "source": [
    "class_to_idx = train_dataset.class_to_idx"
   ]
  },
  {
   "cell_type": "code",
   "execution_count": 8,
   "metadata": {},
   "outputs": [],
   "source": [
    "cols_names_classes = ['class_' + str(i) for i in range(0,num_classes)]\n",
    "cols_names_logits = ['logit_' + str(i) for i in range(0, num_classes)]\n",
    "cols_names_targets = ['target_' + str(i) for i in range(0, num_classes)]"
   ]
  },
  {
   "cell_type": "code",
   "execution_count": 9,
   "metadata": {
    "scrolled": true
   },
   "outputs": [
    {
     "name": "stderr",
     "output_type": "stream",
     "text": [
      "100%|█████████████████████████████████████████████████████████████████████████| 1002/1002 [00:30<00:00, 32.51it/s]\n"
     ]
    }
   ],
   "source": [
    "cifarresultsdir = './skinresults/'\n",
    "model.eval()\n",
    "logits = []\n",
    "preds = []\n",
    "targets = []\n",
    "for i, (input, target) in enumerate(tqdm(val_loader)):\n",
    "    input = input.cuda(gpu, non_blocking = True)\n",
    "    logits_test = model(input)\n",
    "    preds_test = F.softmax(logits_test, dim = 1)\n",
    "    #\n",
    "    dtarget = target.cpu().detach().numpy()[0]\n",
    "    targetname = list(val_dataset.class_to_idx.keys())[list(val_dataset.class_to_idx.values()).index(dtarget)]\n",
    "    traincls = class_to_idx[targetname]\n",
    "    targets_test = F.one_hot(torch.tensor([traincls], dtype=torch.int8).long(), num_classes = num_classes)\n",
    "    #\n",
    "    logits.append(logits_test.cpu().detach())\n",
    "    preds.append(preds_test.cpu().detach())\n",
    "    targets.append(targets_test)\n",
    "    \n",
    "logits = torch.cat(logits, dim=0)\n",
    "preds = torch.cat(preds, dim=0)\n",
    "targets = torch.cat(targets, dim=0)\n",
    "    \n",
    "df = pd.DataFrame(data=preds.numpy(), columns=cols_names_classes)\n",
    "df_logits = pd.DataFrame(data=logits.numpy(), columns=cols_names_logits)\n",
    "df_targets = pd.DataFrame(data=targets.numpy(), columns=cols_names_targets)\n",
    "df = pd.concat([df, df_logits, df_targets], axis=1)\n",
    "df.to_csv(os.path.join(cifarresultsdir, 'predictions_val.csv'), index=False)"
   ]
  },
  {
   "cell_type": "code",
   "execution_count": 10,
   "metadata": {},
   "outputs": [
    {
     "name": "stdout",
     "output_type": "stream",
     "text": [
      "Processing dataset BCN\n"
     ]
    },
    {
     "name": "stderr",
     "output_type": "stream",
     "text": [
      "100%|███████████████████████████████████████████████████████████████████████| 12413/12413 [07:52<00:00, 26.25it/s]\n"
     ]
    },
    {
     "name": "stdout",
     "output_type": "stream",
     "text": [
      "Processing dataset D7P\n"
     ]
    },
    {
     "name": "stderr",
     "output_type": "stream",
     "text": [
      "100%|█████████████████████████████████████████████████████████████████████████| 1923/1923 [01:03<00:00, 30.35it/s]\n"
     ]
    },
    {
     "name": "stdout",
     "output_type": "stream",
     "text": [
      "Processing dataset MSK\n"
     ]
    },
    {
     "name": "stderr",
     "output_type": "stream",
     "text": [
      "100%|█████████████████████████████████████████████████████████████████████████| 3540/3540 [08:48<00:00,  6.69it/s]\n"
     ]
    },
    {
     "name": "stdout",
     "output_type": "stream",
     "text": [
      "Processing dataset OTH\n"
     ]
    },
    {
     "name": "stderr",
     "output_type": "stream",
     "text": [
      "100%|█████████████████████████████████████████████████████████████████████████| 8201/8201 [14:48<00:00,  9.23it/s]\n"
     ]
    },
    {
     "name": "stdout",
     "output_type": "stream",
     "text": [
      "Processing dataset PH2\n"
     ]
    },
    {
     "name": "stderr",
     "output_type": "stream",
     "text": [
      "100%|███████████████████████████████████████████████████████████████████████████| 200/200 [00:07<00:00, 25.09it/s]\n"
     ]
    },
    {
     "name": "stdout",
     "output_type": "stream",
     "text": [
      "Processing dataset UDA\n"
     ]
    },
    {
     "name": "stderr",
     "output_type": "stream",
     "text": [
      "100%|███████████████████████████████████████████████████████████████████████████| 613/613 [00:37<00:00, 16.37it/s]\n"
     ]
    },
    {
     "name": "stdout",
     "output_type": "stream",
     "text": [
      "Processing dataset VIE\n"
     ]
    },
    {
     "name": "stderr",
     "output_type": "stream",
     "text": [
      "100%|█████████████████████████████████████████████████████████████████████████| 4374/4374 [03:52<00:00, 18.81it/s]\n"
     ]
    }
   ],
   "source": [
    "# Other datasets here\n",
    "datasetlist = ['BCN', 'D7P', 'MSK', 'OTH', 'PH2', 'UDA', 'VIE']\n",
    "model.eval()\n",
    "cifarresultsdir = './skinresults/'\n",
    "for datasetn in datasetlist:\n",
    "    \n",
    "    print('Processing dataset ' + datasetn)\n",
    "    \n",
    "    csvsavename = 'predictions_test_' + datasetn +  '.csv'\n",
    "    \n",
    "    val_dataset = datasets.ImageFolder(root=os.path.join(data_folder, datasetn), transform=transform_val)\n",
    "    \n",
    "    val_loader = torch.utils.data.DataLoader(\n",
    "            val_dataset, batch_size=1, shuffle=False,\n",
    "            num_workers=0, pin_memory=True)\n",
    "    \n",
    "    logits = []\n",
    "    preds = []\n",
    "    targets = []\n",
    "    for i, (input, target) in enumerate(tqdm(val_loader)):\n",
    "        input = input.cuda(gpu, non_blocking = True)\n",
    "        logits_test = model(input)\n",
    "        preds_test = F.softmax(logits_test, dim = 1)\n",
    "        #\n",
    "        dtarget = target.cpu().detach().numpy()[0]\n",
    "        targetname = list(val_dataset.class_to_idx.keys())[list(val_dataset.class_to_idx.values()).index(dtarget)]\n",
    "        traincls = class_to_idx[targetname]\n",
    "        targets_test = F.one_hot(torch.tensor([traincls], dtype=torch.int8).long(), num_classes = num_classes)\n",
    "        #\n",
    "        logits.append(logits_test.cpu().detach())\n",
    "        preds.append(preds_test.cpu().detach())\n",
    "        targets.append(targets_test)\n",
    "\n",
    "    logits = torch.cat(logits, dim=0)\n",
    "    preds = torch.cat(preds, dim=0)\n",
    "    targets = torch.cat(targets, dim=0)\n",
    "\n",
    "    df = pd.DataFrame(data=preds.numpy(), columns=cols_names_classes)\n",
    "    df_logits = pd.DataFrame(data=logits.numpy(), columns=cols_names_logits)\n",
    "    df_targets = pd.DataFrame(data=targets.numpy(), columns=cols_names_targets)\n",
    "    df = pd.concat([df, df_logits, df_targets], axis=1)\n",
    "    df.to_csv(os.path.join(cifarresultsdir, csvsavename), index=False)\n",
    "    "
   ]
  },
  {
   "cell_type": "code",
   "execution_count": null,
   "metadata": {
    "scrolled": true
   },
   "outputs": [],
   "source": [
    "# corrupted datasets here\n",
    "data_folder = './skinlesiondatasets/SkinLesionDatasets_C/'\n",
    "\n",
    "datasetlist = ['brightness', 'contrast', 'defocus_blur', 'elastic_transform', 'fog', \n",
    "               'frost', 'gaussian_blur', 'gaussian_noise', 'glass_blur', 'impulse_noise', \n",
    "               'jpeg_compression', 'motion_blur', 'pixelate', 'saturate', 'shot_noise', \n",
    "               'snow', 'spatter', 'speckle_noise', 'zoom_blur']\n",
    "severitylist = [1, 2, 3, 4, 5]\n",
    "\n",
    "model.eval()\n",
    "for datasetn in datasetlist:\n",
    "    \n",
    "    for severityindex in severitylist:\n",
    "    \n",
    "        print('Processing dataset ' + datasetn + ' severity ' + str(severityindex))\n",
    "    \n",
    "        csvsavename = 'predictions_test_' + datasetn + '_' + str(severityindex) + '.csv'\n",
    "\n",
    "        val_dataset = datasets.ImageFolder(root=os.path.join(data_folder, datasetn, str(severityindex)), transform=transform_val)\n",
    "\n",
    "        val_loader = torch.utils.data.DataLoader(\n",
    "                val_dataset, batch_size=1, shuffle=False,\n",
    "                num_workers=0, pin_memory=True)\n",
    "\n",
    "        logits = []\n",
    "        preds = []\n",
    "        targets = []\n",
    "        for i, (input, target) in enumerate(tqdm(val_loader)):\n",
    "            input = input.cuda(gpu, non_blocking = True)\n",
    "            logits_test = model(input)\n",
    "            preds_test = F.softmax(logits_test, dim = 1)\n",
    "            #\n",
    "            dtarget = target.cpu().detach().numpy()[0]\n",
    "            targetname = list(val_dataset.class_to_idx.keys())[list(val_dataset.class_to_idx.values()).index(dtarget)]\n",
    "            traincls = class_to_idx[targetname]\n",
    "            targets_test = F.one_hot(torch.tensor([traincls], dtype=torch.int8).long(), num_classes = num_classes)\n",
    "            #\n",
    "            logits.append(logits_test.cpu().detach())\n",
    "            preds.append(preds_test.cpu().detach())\n",
    "            targets.append(targets_test)\n",
    "\n",
    "        logits = torch.cat(logits, dim=0)\n",
    "        preds = torch.cat(preds, dim=0)\n",
    "        targets = torch.cat(targets, dim=0)\n",
    "\n",
    "        df = pd.DataFrame(data=preds.numpy(), columns=cols_names_classes)\n",
    "        df_logits = pd.DataFrame(data=logits.numpy(), columns=cols_names_logits)\n",
    "        df_targets = pd.DataFrame(data=targets.numpy(), columns=cols_names_targets)\n",
    "        df = pd.concat([df, df_logits, df_targets], axis=1)\n",
    "        df.to_csv(os.path.join(cifarresultsdir, csvsavename), index=False)\n",
    "    "
   ]
  },
  {
   "cell_type": "code",
   "execution_count": null,
   "metadata": {},
   "outputs": [],
   "source": []
  },
  {
   "cell_type": "code",
   "execution_count": null,
   "metadata": {},
   "outputs": [],
   "source": []
  }
 ],
 "metadata": {
  "kernelspec": {
   "display_name": "skinclassifier",
   "language": "python",
   "name": "skinclassifier"
  },
  "language_info": {
   "codemirror_mode": {
    "name": "ipython",
    "version": 3
   },
   "file_extension": ".py",
   "mimetype": "text/x-python",
   "name": "python",
   "nbconvert_exporter": "python",
   "pygments_lexer": "ipython3",
   "version": "3.9.18"
  }
 },
 "nbformat": 4,
 "nbformat_minor": 4
}
