{
 "cells": [
  {
   "cell_type": "code",
   "execution_count": 1,
   "metadata": {},
   "outputs": [
    {
     "name": "stderr",
     "output_type": "stream",
     "text": [
      "/well/win-fmrib-analysis/users/gqu790/conda/skylake/envs/skinclassifier/lib/python3.9/site-packages/torchvision/io/image.py:13: UserWarning: Failed to load image Python extension: libc10_hip.so: cannot open shared object file: No such file or directory\n",
      "  warn(f\"Failed to load image Python extension: {e}\")\n"
     ]
    }
   ],
   "source": [
    "import os\n",
    "import numpy as np\n",
    "import torch\n",
    "import torchvision.transforms as transforms\n",
    "import torchvision.datasets as datasets\n",
    "from tqdm import tqdm\n",
    "import pandas as pd\n",
    "import torch.nn.functional as F\n",
    "from PIL import Image\n",
    "import matplotlib.pyplot as plt"
   ]
  },
  {
   "cell_type": "code",
   "execution_count": 2,
   "metadata": {},
   "outputs": [
    {
     "name": "stdout",
     "output_type": "stream",
     "text": [
      "Files already downloaded and verified\n"
     ]
    }
   ],
   "source": [
    "# load the model\n",
    "import models\n",
    "# default settings\n",
    "arch = 'resnet32'\n",
    "num_classes = 10\n",
    "use_norm = False\n",
    "model = models.__dict__[arch](num_classes=num_classes, use_norm=use_norm)\n",
    "\n",
    "cols_names_classes = ['class_' + str(i) for i in range(0,num_classes)]\n",
    "cols_names_logits = ['logit_' + str(i) for i in range(0, num_classes)]\n",
    "cols_names_targets = ['target_' + str(i) for i in range(0, num_classes)]\n",
    "\n",
    "# prepare the test data.\n",
    "transform_val = transforms.Compose([\n",
    "        transforms.ToTensor(),\n",
    "        transforms.Normalize((0.4914, 0.4822, 0.4465), (0.2023, 0.1994, 0.2010)),\n",
    "    ])\n",
    "val_dataset = datasets.CIFAR10(root='./data', train=False, download=True, transform=transform_val)"
   ]
  },
  {
   "cell_type": "code",
   "execution_count": 7,
   "metadata": {},
   "outputs": [],
   "source": [
    "import random\n",
    "random.seed(79)\n",
    "test_ind = list(range(10000))\n",
    "random.shuffle(test_ind)"
   ]
  },
  {
   "cell_type": "code",
   "execution_count": 8,
   "metadata": {},
   "outputs": [],
   "source": [
    "val_ind = test_ind[:3000]\n",
    "testc_indx_1 = test_ind[3000:]\n",
    "testc_indx_2 = [x+10000 for x in test_ind[3000:]]\n",
    "testc_indx_3 = [x+20000 for x in test_ind[3000:]]\n",
    "testc_indx_4 = [x+30000 for x in test_ind[3000:]]\n",
    "testc_indx_5 = [x+40000 for x in test_ind[3000:]]\n",
    "testc_indx = testc_indx_1 + testc_indx_2 + testc_indx_3 + testc_indx_4 + testc_indx_5"
   ]
  },
  {
   "cell_type": "code",
   "execution_count": 5,
   "metadata": {},
   "outputs": [],
   "source": [
    "val_loader = torch.utils.data.DataLoader(val_dataset, batch_size=1, shuffle=False,\n",
    "        num_workers=4, pin_memory=True, sampler = torch.utils.data.SubsetRandomSampler(val_ind))"
   ]
  },
  {
   "cell_type": "code",
   "execution_count": 6,
   "metadata": {},
   "outputs": [],
   "source": [
    "class MyDataset(torch.utils.data.Dataset):\n",
    "    def __init__(self, data, targets, transform=None):\n",
    "        self.data = data\n",
    "        self.targets = torch.LongTensor(targets)\n",
    "        self.transform = transform\n",
    "        \n",
    "    def __getitem__(self, index):\n",
    "        x = self.data[index]\n",
    "        y = self.targets[index]\n",
    "        \n",
    "        if self.transform:\n",
    "            x = Image.fromarray(self.data[index])\n",
    "            x = self.transform(x)\n",
    "        \n",
    "        return x, y\n",
    "    \n",
    "    def __len__(self):\n",
    "        return len(self.data)"
   ]
  },
  {
   "cell_type": "markdown",
   "metadata": {},
   "source": [
    "# CIFAR-10"
   ]
  },
  {
   "cell_type": "code",
   "execution_count": null,
   "metadata": {},
   "outputs": [],
   "source": [
    "# load the model parameters\n",
    "# vanilla training\n",
    "model_ckpt = './checkpoints_cls/cifar10_resnet32_CE_None_exp_0.01_0/ckpt.pth.tar'\n",
    "# ci_1\n",
    "model_ckpt_ci1 = './checkpoints_cls/cifar10_resnet32_LDAM_None_exp_0.01_0/ckpt.pth.tar'\n",
    "# ci_2\n",
    "model_ckpt_ci2 = './checkpoints_cls/cifar10_resnet32_CE_DRW_exp_0.01_0/ckpt.pth.tar'\n",
    "# rl_1\n",
    "model_ckpt_rl1 = './checkpoints_cls/cifar10_resnet32_CE_None_exp_0.01_0_cutout/ckpt.pth.tar'\n",
    "# rl_2\n",
    "model_ckpt_rl2 = './checkpoints_cls/cifar10_resnet32_CE_None_exp_0.01_0_randaugment/ckpt.pth.tar'"
   ]
  },
  {
   "cell_type": "markdown",
   "metadata": {},
   "source": [
    "## CIFAR-10, baseline"
   ]
  },
  {
   "cell_type": "code",
   "execution_count": null,
   "metadata": {},
   "outputs": [],
   "source": [
    "gpu = 0\n",
    "model = model.cuda(gpu)\n",
    "checkpoint = torch.load(model_ckpt, map_location = 'cuda:' + str(gpu))\n",
    "model.load_state_dict(checkpoint['state_dict'])"
   ]
  },
  {
   "cell_type": "code",
   "execution_count": null,
   "metadata": {},
   "outputs": [],
   "source": [
    "cifarresultsdir = './cifar10results/baseline/'\n",
    "if not os.path.exists(cifarresultsdir):\n",
    "    os.makedirs(cifarresultsdir)\n",
    "\n",
    "model.eval()\n",
    "logits = []\n",
    "preds = []\n",
    "targets = []\n",
    "for i, (input, target) in enumerate(tqdm(val_loader)):\n",
    "    input = input.cuda(gpu, non_blocking = True)\n",
    "    logits_test = model(input)\n",
    "    preds_test = F.softmax(logits_test, dim = 1)\n",
    "    targets_test = F.one_hot(target, num_classes = num_classes)\n",
    "    logits.append(logits_test.cpu().detach())\n",
    "    preds.append(preds_test.cpu().detach())\n",
    "    targets.append(targets_test)\n",
    "    \n",
    "logits = torch.cat(logits, dim=0)\n",
    "preds = torch.cat(preds, dim=0)\n",
    "targets = torch.cat(targets, dim=0)\n",
    "    \n",
    "df = pd.DataFrame(data=preds.numpy(), columns=cols_names_classes)\n",
    "df_logits = pd.DataFrame(data=logits.numpy(), columns=cols_names_logits)\n",
    "df_targets = pd.DataFrame(data=targets.numpy(), columns=cols_names_targets)\n",
    "df = pd.concat([df, df_logits, df_targets], axis=1)\n",
    "df.to_csv(os.path.join(cifarresultsdir, 'predictions_val.csv'), index=False)"
   ]
  },
  {
   "cell_type": "code",
   "execution_count": null,
   "metadata": {
    "scrolled": true
   },
   "outputs": [],
   "source": [
    "cifarcdatadir = './CIFAR-10-C/'\n",
    "\n",
    "alltestfiles = os.listdir(cifarcdatadir)\n",
    "alltestfiles.remove('labels.npy')\n",
    "\n",
    "labelcifar = np.load(cifarcdatadir + 'labels.npy')\n",
    "\n",
    "for testc in tqdm(alltestfiles):\n",
    "    \n",
    "    print('Processing corruption: ', testc[:-4])\n",
    "    \n",
    "    datasetexample = np.load(cifarcdatadir + testc)\n",
    "    \n",
    "    val_datasetc = MyDataset(datasetexample, labelcifar, transform=transform_val)\n",
    "    val_loaderc = torch.utils.data.DataLoader(val_datasetc, batch_size=1, shuffle=False,\n",
    "        num_workers=4, pin_memory=True, sampler = torch.utils.data.SubsetRandomSampler(testc_indx))\n",
    "    \n",
    "    savefilename = 'predictions_val_' + testc[:-4] + '.csv'\n",
    "    \n",
    "    model.eval()\n",
    "    logits = []\n",
    "    preds = []\n",
    "    targets = []\n",
    "    for i, (input, target) in enumerate(val_loaderc):\n",
    "        input = input.cuda(gpu, non_blocking = True)\n",
    "        logits_test = model(input)\n",
    "        preds_test = F.softmax(logits_test, dim = 1)\n",
    "        targets_test = F.one_hot(target, num_classes = num_classes)\n",
    "        logits.append(logits_test.cpu().detach())\n",
    "        preds.append(preds_test.cpu().detach())\n",
    "        targets.append(targets_test)\n",
    "\n",
    "    logits = torch.cat(logits, dim=0)\n",
    "    preds = torch.cat(preds, dim=0)\n",
    "    targets = torch.cat(targets, dim=0)\n",
    "\n",
    "    df = pd.DataFrame(data=preds.numpy(), columns=cols_names_classes)\n",
    "    df_logits = pd.DataFrame(data=logits.numpy(), columns=cols_names_logits)\n",
    "    df_targets = pd.DataFrame(data=targets.numpy(), columns=cols_names_targets)\n",
    "    df = pd.concat([df, df_logits, df_targets], axis=1)\n",
    "    df.to_csv(os.path.join(cifarresultsdir, savefilename), index=False)\n",
    "    "
   ]
  },
  {
   "cell_type": "markdown",
   "metadata": {},
   "source": [
    "## CIFAR-10, ci1"
   ]
  },
  {
   "cell_type": "code",
   "execution_count": null,
   "metadata": {},
   "outputs": [],
   "source": [
    "gpu = 0\n",
    "use_norm = True\n",
    "model = models.__dict__[arch](num_classes=num_classes, use_norm=use_norm)\n",
    "model = model.cuda(gpu)\n",
    "checkpoint = torch.load(model_ckpt_ci1, map_location = 'cuda:' + str(gpu))\n",
    "model.load_state_dict(checkpoint['state_dict'])"
   ]
  },
  {
   "cell_type": "code",
   "execution_count": null,
   "metadata": {},
   "outputs": [],
   "source": [
    "cifarresultsdir = './cifar10results/ci1/'\n",
    "if not os.path.exists(cifarresultsdir):\n",
    "    os.makedirs(cifarresultsdir)\n",
    "\n",
    "model.eval()\n",
    "logits = []\n",
    "preds = []\n",
    "targets = []\n",
    "for i, (input, target) in enumerate(tqdm(val_loader)):\n",
    "    input = input.cuda(gpu, non_blocking = True)\n",
    "    logits_test = model(input)\n",
    "    preds_test = F.softmax(logits_test, dim = 1)\n",
    "    targets_test = F.one_hot(target, num_classes = num_classes)\n",
    "    logits.append(logits_test.cpu().detach())\n",
    "    preds.append(preds_test.cpu().detach())\n",
    "    targets.append(targets_test)\n",
    "    \n",
    "logits = torch.cat(logits, dim=0)\n",
    "preds = torch.cat(preds, dim=0)\n",
    "targets = torch.cat(targets, dim=0)\n",
    "    \n",
    "df = pd.DataFrame(data=preds.numpy(), columns=cols_names_classes)\n",
    "df_logits = pd.DataFrame(data=logits.numpy(), columns=cols_names_logits)\n",
    "df_targets = pd.DataFrame(data=targets.numpy(), columns=cols_names_targets)\n",
    "df = pd.concat([df, df_logits, df_targets], axis=1)\n",
    "df.to_csv(os.path.join(cifarresultsdir, 'predictions_val.csv'), index=False)"
   ]
  },
  {
   "cell_type": "code",
   "execution_count": null,
   "metadata": {
    "scrolled": true
   },
   "outputs": [],
   "source": [
    "cifarcdatadir = './CIFAR-10-C/'\n",
    "\n",
    "alltestfiles = os.listdir(cifarcdatadir)\n",
    "alltestfiles.remove('labels.npy')\n",
    "\n",
    "labelcifar = np.load(cifarcdatadir + 'labels.npy')\n",
    "\n",
    "for testc in tqdm(alltestfiles):\n",
    "    \n",
    "    print('Processing corruption: ', testc[:-4])\n",
    "    \n",
    "    datasetexample = np.load(cifarcdatadir + testc)\n",
    "    \n",
    "    val_datasetc = MyDataset(datasetexample, labelcifar, transform=transform_val)\n",
    "    val_loaderc = torch.utils.data.DataLoader(val_datasetc, batch_size=1, shuffle=False,\n",
    "        num_workers=4, pin_memory=True, sampler = torch.utils.data.SubsetRandomSampler(testc_indx))\n",
    "    \n",
    "    savefilename = 'predictions_val_' + testc[:-4] + '.csv'\n",
    "    \n",
    "    model.eval()\n",
    "    logits = []\n",
    "    preds = []\n",
    "    targets = []\n",
    "    for i, (input, target) in enumerate(val_loaderc):\n",
    "        input = input.cuda(gpu, non_blocking = True)\n",
    "        logits_test = model(input)\n",
    "        preds_test = F.softmax(logits_test, dim = 1)\n",
    "        targets_test = F.one_hot(target, num_classes = num_classes)\n",
    "        logits.append(logits_test.cpu().detach())\n",
    "        preds.append(preds_test.cpu().detach())\n",
    "        targets.append(targets_test)\n",
    "\n",
    "    logits = torch.cat(logits, dim=0)\n",
    "    preds = torch.cat(preds, dim=0)\n",
    "    targets = torch.cat(targets, dim=0)\n",
    "\n",
    "    df = pd.DataFrame(data=preds.numpy(), columns=cols_names_classes)\n",
    "    df_logits = pd.DataFrame(data=logits.numpy(), columns=cols_names_logits)\n",
    "    df_targets = pd.DataFrame(data=targets.numpy(), columns=cols_names_targets)\n",
    "    df = pd.concat([df, df_logits, df_targets], axis=1)\n",
    "    df.to_csv(os.path.join(cifarresultsdir, savefilename), index=False)\n",
    "    "
   ]
  },
  {
   "cell_type": "markdown",
   "metadata": {},
   "source": [
    "## CIFAR-10, ci2"
   ]
  },
  {
   "cell_type": "code",
   "execution_count": null,
   "metadata": {},
   "outputs": [],
   "source": [
    "gpu = 0\n",
    "use_norm = False\n",
    "model = models.__dict__[arch](num_classes=num_classes, use_norm=use_norm)\n",
    "model = model.cuda(gpu)\n",
    "checkpoint = torch.load(model_ckpt_ci2, map_location = 'cuda:' + str(gpu))\n",
    "model.load_state_dict(checkpoint['state_dict'])"
   ]
  },
  {
   "cell_type": "code",
   "execution_count": null,
   "metadata": {},
   "outputs": [],
   "source": [
    "cifarresultsdir = './cifar10results/ci2/'\n",
    "if not os.path.exists(cifarresultsdir):\n",
    "    os.makedirs(cifarresultsdir)\n",
    "\n",
    "model.eval()\n",
    "logits = []\n",
    "preds = []\n",
    "targets = []\n",
    "for i, (input, target) in enumerate(tqdm(val_loader)):\n",
    "    input = input.cuda(gpu, non_blocking = True)\n",
    "    logits_test = model(input)\n",
    "    preds_test = F.softmax(logits_test, dim = 1)\n",
    "    targets_test = F.one_hot(target, num_classes = num_classes)\n",
    "    logits.append(logits_test.cpu().detach())\n",
    "    preds.append(preds_test.cpu().detach())\n",
    "    targets.append(targets_test)\n",
    "    \n",
    "logits = torch.cat(logits, dim=0)\n",
    "preds = torch.cat(preds, dim=0)\n",
    "targets = torch.cat(targets, dim=0)\n",
    "    \n",
    "df = pd.DataFrame(data=preds.numpy(), columns=cols_names_classes)\n",
    "df_logits = pd.DataFrame(data=logits.numpy(), columns=cols_names_logits)\n",
    "df_targets = pd.DataFrame(data=targets.numpy(), columns=cols_names_targets)\n",
    "df = pd.concat([df, df_logits, df_targets], axis=1)\n",
    "df.to_csv(os.path.join(cifarresultsdir, 'predictions_val.csv'), index=False)"
   ]
  },
  {
   "cell_type": "code",
   "execution_count": null,
   "metadata": {},
   "outputs": [],
   "source": [
    "cifarcdatadir = './CIFAR-10-C/'\n",
    "\n",
    "alltestfiles = os.listdir(cifarcdatadir)\n",
    "alltestfiles.remove('labels.npy')\n",
    "\n",
    "labelcifar = np.load(cifarcdatadir + 'labels.npy')\n",
    "\n",
    "for testc in tqdm(alltestfiles):\n",
    "    \n",
    "    print('Processing corruption: ', testc[:-4])\n",
    "    \n",
    "    datasetexample = np.load(cifarcdatadir + testc)\n",
    "    \n",
    "    val_datasetc = MyDataset(datasetexample, labelcifar, transform=transform_val)\n",
    "    val_loaderc = torch.utils.data.DataLoader(val_datasetc, batch_size=1, shuffle=False,\n",
    "        num_workers=4, pin_memory=True, sampler = torch.utils.data.SubsetRandomSampler(testc_indx))\n",
    "    \n",
    "    savefilename = 'predictions_val_' + testc[:-4] + '.csv'\n",
    "    \n",
    "    model.eval()\n",
    "    logits = []\n",
    "    preds = []\n",
    "    targets = []\n",
    "    for i, (input, target) in enumerate(val_loaderc):\n",
    "        input = input.cuda(gpu, non_blocking = True)\n",
    "        logits_test = model(input)\n",
    "        preds_test = F.softmax(logits_test, dim = 1)\n",
    "        targets_test = F.one_hot(target, num_classes = num_classes)\n",
    "        logits.append(logits_test.cpu().detach())\n",
    "        preds.append(preds_test.cpu().detach())\n",
    "        targets.append(targets_test)\n",
    "\n",
    "    logits = torch.cat(logits, dim=0)\n",
    "    preds = torch.cat(preds, dim=0)\n",
    "    targets = torch.cat(targets, dim=0)\n",
    "\n",
    "    df = pd.DataFrame(data=preds.numpy(), columns=cols_names_classes)\n",
    "    df_logits = pd.DataFrame(data=logits.numpy(), columns=cols_names_logits)\n",
    "    df_targets = pd.DataFrame(data=targets.numpy(), columns=cols_names_targets)\n",
    "    df = pd.concat([df, df_logits, df_targets], axis=1)\n",
    "    df.to_csv(os.path.join(cifarresultsdir, savefilename), index=False)\n",
    "    "
   ]
  },
  {
   "cell_type": "markdown",
   "metadata": {},
   "source": [
    "## CIFAR-10, rl1"
   ]
  },
  {
   "cell_type": "code",
   "execution_count": null,
   "metadata": {},
   "outputs": [],
   "source": [
    "gpu = 0\n",
    "model = model.cuda(gpu)\n",
    "checkpoint = torch.load(model_ckpt_rl1, map_location = 'cuda:' + str(gpu))\n",
    "model.load_state_dict(checkpoint['state_dict'])"
   ]
  },
  {
   "cell_type": "code",
   "execution_count": null,
   "metadata": {},
   "outputs": [],
   "source": [
    "cifarresultsdir = './cifar10results/rl1/'\n",
    "if not os.path.exists(cifarresultsdir):\n",
    "    os.makedirs(cifarresultsdir)\n",
    "\n",
    "model.eval()\n",
    "logits = []\n",
    "preds = []\n",
    "targets = []\n",
    "for i, (input, target) in enumerate(tqdm(val_loader)):\n",
    "    input = input.cuda(gpu, non_blocking = True)\n",
    "    logits_test = model(input)\n",
    "    preds_test = F.softmax(logits_test, dim = 1)\n",
    "    targets_test = F.one_hot(target, num_classes = num_classes)\n",
    "    logits.append(logits_test.cpu().detach())\n",
    "    preds.append(preds_test.cpu().detach())\n",
    "    targets.append(targets_test)\n",
    "    \n",
    "logits = torch.cat(logits, dim=0)\n",
    "preds = torch.cat(preds, dim=0)\n",
    "targets = torch.cat(targets, dim=0)\n",
    "    \n",
    "df = pd.DataFrame(data=preds.numpy(), columns=cols_names_classes)\n",
    "df_logits = pd.DataFrame(data=logits.numpy(), columns=cols_names_logits)\n",
    "df_targets = pd.DataFrame(data=targets.numpy(), columns=cols_names_targets)\n",
    "df = pd.concat([df, df_logits, df_targets], axis=1)\n",
    "df.to_csv(os.path.join(cifarresultsdir, 'predictions_val.csv'), index=False)"
   ]
  },
  {
   "cell_type": "code",
   "execution_count": null,
   "metadata": {},
   "outputs": [],
   "source": [
    "cifarcdatadir = './CIFAR-10-C/'\n",
    "\n",
    "alltestfiles = os.listdir(cifarcdatadir)\n",
    "alltestfiles.remove('labels.npy')\n",
    "\n",
    "labelcifar = np.load(cifarcdatadir + 'labels.npy')\n",
    "\n",
    "for testc in tqdm(alltestfiles):\n",
    "    \n",
    "    print('Processing corruption: ', testc[:-4])\n",
    "    \n",
    "    datasetexample = np.load(cifarcdatadir + testc)\n",
    "    \n",
    "    val_datasetc = MyDataset(datasetexample, labelcifar, transform=transform_val)\n",
    "    val_loaderc = torch.utils.data.DataLoader(val_datasetc, batch_size=1, shuffle=False,\n",
    "        num_workers=4, pin_memory=True, sampler = torch.utils.data.SubsetRandomSampler(testc_indx))\n",
    "    \n",
    "    savefilename = 'predictions_val_' + testc[:-4] + '.csv'\n",
    "    \n",
    "    model.eval()\n",
    "    logits = []\n",
    "    preds = []\n",
    "    targets = []\n",
    "    for i, (input, target) in enumerate(val_loaderc):\n",
    "        input = input.cuda(gpu, non_blocking = True)\n",
    "        logits_test = model(input)\n",
    "        preds_test = F.softmax(logits_test, dim = 1)\n",
    "        targets_test = F.one_hot(target, num_classes = num_classes)\n",
    "        logits.append(logits_test.cpu().detach())\n",
    "        preds.append(preds_test.cpu().detach())\n",
    "        targets.append(targets_test)\n",
    "\n",
    "    logits = torch.cat(logits, dim=0)\n",
    "    preds = torch.cat(preds, dim=0)\n",
    "    targets = torch.cat(targets, dim=0)\n",
    "\n",
    "    df = pd.DataFrame(data=preds.numpy(), columns=cols_names_classes)\n",
    "    df_logits = pd.DataFrame(data=logits.numpy(), columns=cols_names_logits)\n",
    "    df_targets = pd.DataFrame(data=targets.numpy(), columns=cols_names_targets)\n",
    "    df = pd.concat([df, df_logits, df_targets], axis=1)\n",
    "    df.to_csv(os.path.join(cifarresultsdir, savefilename), index=False)\n",
    "    "
   ]
  },
  {
   "cell_type": "markdown",
   "metadata": {},
   "source": [
    "## CIFAR-10, rl2"
   ]
  },
  {
   "cell_type": "code",
   "execution_count": null,
   "metadata": {},
   "outputs": [],
   "source": [
    "gpu = 0\n",
    "model = model.cuda(gpu)\n",
    "checkpoint = torch.load(model_ckpt_rl2, map_location = 'cuda:' + str(gpu))\n",
    "model.load_state_dict(checkpoint['state_dict'])"
   ]
  },
  {
   "cell_type": "code",
   "execution_count": null,
   "metadata": {},
   "outputs": [],
   "source": [
    "cifarresultsdir = './cifar10results/rl2/'\n",
    "if not os.path.exists(cifarresultsdir):\n",
    "    os.makedirs(cifarresultsdir)\n",
    "\n",
    "model.eval()\n",
    "logits = []\n",
    "preds = []\n",
    "targets = []\n",
    "for i, (input, target) in enumerate(tqdm(val_loader)):\n",
    "    input = input.cuda(gpu, non_blocking = True)\n",
    "    logits_test = model(input)\n",
    "    preds_test = F.softmax(logits_test, dim = 1)\n",
    "    targets_test = F.one_hot(target, num_classes = num_classes)\n",
    "    logits.append(logits_test.cpu().detach())\n",
    "    preds.append(preds_test.cpu().detach())\n",
    "    targets.append(targets_test)\n",
    "    \n",
    "logits = torch.cat(logits, dim=0)\n",
    "preds = torch.cat(preds, dim=0)\n",
    "targets = torch.cat(targets, dim=0)\n",
    "    \n",
    "df = pd.DataFrame(data=preds.numpy(), columns=cols_names_classes)\n",
    "df_logits = pd.DataFrame(data=logits.numpy(), columns=cols_names_logits)\n",
    "df_targets = pd.DataFrame(data=targets.numpy(), columns=cols_names_targets)\n",
    "df = pd.concat([df, df_logits, df_targets], axis=1)\n",
    "df.to_csv(os.path.join(cifarresultsdir, 'predictions_val.csv'), index=False)"
   ]
  },
  {
   "cell_type": "code",
   "execution_count": null,
   "metadata": {},
   "outputs": [],
   "source": [
    "cifarcdatadir = './CIFAR-10-C/'\n",
    "\n",
    "alltestfiles = os.listdir(cifarcdatadir)\n",
    "alltestfiles.remove('labels.npy')\n",
    "\n",
    "labelcifar = np.load(cifarcdatadir + 'labels.npy')\n",
    "\n",
    "for testc in tqdm(alltestfiles):\n",
    "    \n",
    "    print('Processing corruption: ', testc[:-4])\n",
    "    \n",
    "    datasetexample = np.load(cifarcdatadir + testc)\n",
    "    \n",
    "    val_datasetc = MyDataset(datasetexample, labelcifar, transform=transform_val)\n",
    "    val_loaderc = torch.utils.data.DataLoader(val_datasetc, batch_size=1, shuffle=False,\n",
    "        num_workers=4, pin_memory=True, sampler = torch.utils.data.SubsetRandomSampler(testc_indx))\n",
    "    \n",
    "    savefilename = 'predictions_val_' + testc[:-4] + '.csv'\n",
    "    \n",
    "    model.eval()\n",
    "    logits = []\n",
    "    preds = []\n",
    "    targets = []\n",
    "    for i, (input, target) in enumerate(val_loaderc):\n",
    "        input = input.cuda(gpu, non_blocking = True)\n",
    "        logits_test = model(input)\n",
    "        preds_test = F.softmax(logits_test, dim = 1)\n",
    "        targets_test = F.one_hot(target, num_classes = num_classes)\n",
    "        logits.append(logits_test.cpu().detach())\n",
    "        preds.append(preds_test.cpu().detach())\n",
    "        targets.append(targets_test)\n",
    "\n",
    "    logits = torch.cat(logits, dim=0)\n",
    "    preds = torch.cat(preds, dim=0)\n",
    "    targets = torch.cat(targets, dim=0)\n",
    "\n",
    "    df = pd.DataFrame(data=preds.numpy(), columns=cols_names_classes)\n",
    "    df_logits = pd.DataFrame(data=logits.numpy(), columns=cols_names_logits)\n",
    "    df_targets = pd.DataFrame(data=targets.numpy(), columns=cols_names_targets)\n",
    "    df = pd.concat([df, df_logits, df_targets], axis=1)\n",
    "    df.to_csv(os.path.join(cifarresultsdir, savefilename), index=False)\n",
    "    "
   ]
  },
  {
   "cell_type": "markdown",
   "metadata": {},
   "source": [
    "# CIFAR-100"
   ]
  },
  {
   "cell_type": "code",
   "execution_count": 2,
   "metadata": {},
   "outputs": [],
   "source": [
    "# load the model parameters\n",
    "# vanilla training\n",
    "model_ckpt = './checkpoints_cls/cifar100_resnet32_CE_None_exp_0.01_0/ckpt.pth.tar'"
   ]
  },
  {
   "cell_type": "code",
   "execution_count": 4,
   "metadata": {},
   "outputs": [
    {
     "name": "stdout",
     "output_type": "stream",
     "text": [
      "Downloading https://www.cs.toronto.edu/~kriz/cifar-100-python.tar.gz to ./data/cifar-100-python.tar.gz\n"
     ]
    },
    {
     "data": {
      "application/vnd.jupyter.widget-view+json": {
       "model_id": "b1a29389cbbb4f369d51b73ba5c830ae",
       "version_major": 2,
       "version_minor": 0
      },
      "text/plain": [
       "  0%|          | 0/169001437 [00:00<?, ?it/s]"
      ]
     },
     "metadata": {},
     "output_type": "display_data"
    },
    {
     "name": "stdout",
     "output_type": "stream",
     "text": [
      "Extracting ./data/cifar-100-python.tar.gz to ./data\n"
     ]
    }
   ],
   "source": [
    "# load the model\n",
    "import models\n",
    "# default settings\n",
    "arch = 'resnet32'\n",
    "num_classes = 100\n",
    "use_norm = False\n",
    "model = models.__dict__[arch](num_classes=num_classes, use_norm=use_norm)\n",
    "\n",
    "cols_names_classes = ['class_' + str(i) for i in range(0,num_classes)]\n",
    "cols_names_logits = ['logit_' + str(i) for i in range(0, num_classes)]\n",
    "cols_names_targets = ['target_' + str(i) for i in range(0, num_classes)]\n",
    "\n",
    "# prepare the test data.\n",
    "transform_val = transforms.Compose([\n",
    "        transforms.ToTensor(),\n",
    "        transforms.Normalize((0.4914, 0.4822, 0.4465), (0.2023, 0.1994, 0.2010)),\n",
    "    ])\n",
    "val_dataset = datasets.CIFAR100(root='./data', train=False, download=True, transform=transform_val)"
   ]
  },
  {
   "cell_type": "code",
   "execution_count": 10,
   "metadata": {},
   "outputs": [],
   "source": [
    "val_loader = torch.utils.data.DataLoader(val_dataset, batch_size=1, shuffle=False,\n",
    "        num_workers=4, pin_memory=True, sampler = torch.utils.data.SubsetRandomSampler(val_ind))"
   ]
  },
  {
   "cell_type": "code",
   "execution_count": 11,
   "metadata": {},
   "outputs": [
    {
     "data": {
      "text/plain": [
       "<All keys matched successfully>"
      ]
     },
     "execution_count": 11,
     "metadata": {},
     "output_type": "execute_result"
    }
   ],
   "source": [
    "gpu = 0\n",
    "model = model.cuda(gpu)\n",
    "checkpoint = torch.load(model_ckpt, map_location = 'cuda:' + str(gpu))\n",
    "model.load_state_dict(checkpoint['state_dict'])"
   ]
  },
  {
   "cell_type": "code",
   "execution_count": 12,
   "metadata": {},
   "outputs": [
    {
     "name": "stderr",
     "output_type": "stream",
     "text": [
      "100%|████████████████████████████████████████████████████████████████████████| 3000/3000 [00:19<00:00, 150.93it/s]\n"
     ]
    }
   ],
   "source": [
    "cifarresultsdir = './cifar100results/baseline/'\n",
    "if not os.path.exists(cifarresultsdir):\n",
    "    os.makedirs(cifarresultsdir)\n",
    "\n",
    "model.eval()\n",
    "logits = []\n",
    "preds = []\n",
    "targets = []\n",
    "for i, (input, target) in enumerate(tqdm(val_loader)):\n",
    "    input = input.cuda(gpu, non_blocking = True)\n",
    "    logits_test = model(input)\n",
    "    preds_test = F.softmax(logits_test, dim = 1)\n",
    "    targets_test = F.one_hot(target, num_classes = num_classes)\n",
    "    logits.append(logits_test.cpu().detach())\n",
    "    preds.append(preds_test.cpu().detach())\n",
    "    targets.append(targets_test)\n",
    "    \n",
    "logits = torch.cat(logits, dim=0)\n",
    "preds = torch.cat(preds, dim=0)\n",
    "targets = torch.cat(targets, dim=0)\n",
    "    \n",
    "df = pd.DataFrame(data=preds.numpy(), columns=cols_names_classes)\n",
    "df_logits = pd.DataFrame(data=logits.numpy(), columns=cols_names_logits)\n",
    "df_targets = pd.DataFrame(data=targets.numpy(), columns=cols_names_targets)\n",
    "df = pd.concat([df, df_logits, df_targets], axis=1)\n",
    "df.to_csv(os.path.join(cifarresultsdir, 'predictions_val.csv'), index=False)"
   ]
  },
  {
   "cell_type": "code",
   "execution_count": null,
   "metadata": {},
   "outputs": [],
   "source": [
    "cifarcdatadir = './CIFAR-100-C/'\n",
    "\n",
    "alltestfiles = os.listdir(cifarcdatadir)\n",
    "alltestfiles.remove('labels.npy')\n",
    "alltestfiles.remove('README.txt')\n",
    "\n",
    "labelcifar = np.load(cifarcdatadir + 'labels.npy')\n",
    "\n",
    "for testc in tqdm(alltestfiles):\n",
    "    \n",
    "    print('Processing corruption: ', testc[:-4])\n",
    "    \n",
    "    datasetexample = np.load(cifarcdatadir + testc)\n",
    "    \n",
    "    val_datasetc = MyDataset(datasetexample, labelcifar, transform=transform_val)\n",
    "    val_loaderc = torch.utils.data.DataLoader(val_datasetc, batch_size=1, shuffle=False,\n",
    "        num_workers=4, pin_memory=True, sampler = torch.utils.data.SubsetRandomSampler(testc_indx))\n",
    "    \n",
    "    savefilename = 'predictions_val_' + testc[:-4] + '.csv'\n",
    "    \n",
    "    model.eval()\n",
    "    logits = []\n",
    "    preds = []\n",
    "    targets = []\n",
    "    for i, (input, target) in enumerate(val_loaderc):\n",
    "        input = input.cuda(gpu, non_blocking = True)\n",
    "        logits_test = model(input)\n",
    "        preds_test = F.softmax(logits_test, dim = 1)\n",
    "        targets_test = F.one_hot(target, num_classes = num_classes)\n",
    "        logits.append(logits_test.cpu().detach())\n",
    "        preds.append(preds_test.cpu().detach())\n",
    "        targets.append(targets_test)\n",
    "\n",
    "    logits = torch.cat(logits, dim=0)\n",
    "    preds = torch.cat(preds, dim=0)\n",
    "    targets = torch.cat(targets, dim=0)\n",
    "\n",
    "    df = pd.DataFrame(data=preds.numpy(), columns=cols_names_classes)\n",
    "    df_logits = pd.DataFrame(data=logits.numpy(), columns=cols_names_logits)\n",
    "    df_targets = pd.DataFrame(data=targets.numpy(), columns=cols_names_targets)\n",
    "    df = pd.concat([df, df_logits, df_targets], axis=1)\n",
    "    df.to_csv(os.path.join(cifarresultsdir, savefilename), index=False)\n",
    "    "
   ]
  },
  {
   "cell_type": "code",
   "execution_count": null,
   "metadata": {},
   "outputs": [],
   "source": []
  }
 ],
 "metadata": {
  "kernelspec": {
   "display_name": "skinclassifier",
   "language": "python",
   "name": "skinclassifier"
  },
  "language_info": {
   "codemirror_mode": {
    "name": "ipython",
    "version": 3
   },
   "file_extension": ".py",
   "mimetype": "text/x-python",
   "name": "python",
   "nbconvert_exporter": "python",
   "pygments_lexer": "ipython3",
   "version": "3.9.18"
  }
 },
 "nbformat": 4,
 "nbformat_minor": 4
}
